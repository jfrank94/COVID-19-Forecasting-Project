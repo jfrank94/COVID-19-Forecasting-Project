{
  "nbformat": 4,
  "nbformat_minor": 0,
  "metadata": {
    "colab": {
      "provenance": []
    },
    "kernelspec": {
      "name": "python3",
      "display_name": "Python 3"
    },
    "language_info": {
      "name": "python"
    }
  },
  "cells": [
    {
      "cell_type": "markdown",
      "source": [
        "This comprehensive Dash application creates an interactive COVID-19 Data Visualization Dashboard. Here's a breakdown of how it works and the features it includes:\n",
        "\n",
        "1. **Dashboard Initialization and Configuration**\n",
        "  - **Dash App Initialization**: A Dash application instance is created, which serves as the core of the dashboard.\n",
        "  - **Server Configuration**: The server variable is linked to the app for deployment purposes.\n",
        "  - **Cache Configuration**: A filesystem-based cache is set up to optimize performance by caching expensive data transformations.\n",
        "2. **Data Preparation**\n",
        "  - **Data Loading**: The COVID-19 dataset is loaded into a pandas DataFrame. This dataset should contain various metrics like total cases, new cases, total deaths, etc., along with geographical information (latitude and longitude) and dates for each location.\n",
        "  - **Filter Function**: A caching mechanism memoizes the `filter_data` function to efficiently filter the dataset based on user selections (metric and location) without reprocessing the entire dataset repeatedly.\n",
        "3. **Dashboard Layout and Components**\n",
        "  - **Layout Setup**: The app's layout is defined with HTML and Dash components. It includes a title, two dropdown menus for selecting the location and metric, and several graphs for visualizing the data.\n",
        "  - **Location Dropdown**: Allows users to select a specific location or view global data. The options dynamically populate based on unique locations available in the dataset.\n",
        "  - **Metric Dropdown**: Enables users to choose the COVID-19 metric they are interested in, such as total cases, new cases, total deaths, etc.\n",
        "4. **Interactive Visualizations**\n",
        "  - **Map Visualization**: An interactive map displaying the selected metric across different locations. The map updates based on the selections in the dropdown menus.\n",
        "  - **Time Series Visualization**: Shows how the selected metric changes over time for the chosen location.\n",
        "  - Global Heatmap: A choropleth heatmap that animates the global distribution of the selected metric over time.\n",
        "  - **Comparison Chart**: Compares the selected metric across different locations over time, allowing for cross-location analysis.\n",
        "  - **Vaccination Coverage Chart**: Visualizes total vaccinations over time for the chosen location, highlighting the progress of vaccination efforts.\n",
        "5. **Callbacks for Interactivity**\n",
        "  - Dash callbacks link the input from the dropdown menus to update the visualizations accordingly. Each visualization has its own callback function that:\n",
        "    - Retrieves the user-selected metric and location.\n",
        "    - Filters the dataset based on these selections.\n",
        "    - Generates and returns the updated figure for display in the dashboard.\n",
        "  - These callbacks ensure that the dashboard is highly interactive and responsive to user inputs, providing a dynamic tool for exploring COVID-19 data trends and patterns across different locations and metrics."
      ],
      "metadata": {
        "id": "U31zkIgn9CrJ"
      }
    },
    {
      "cell_type": "code",
      "source": [
        "main_path = \"replace/with/your/own/path/\"\n",
        "datasets_path = f'{main_path}datasets/'"
      ],
      "metadata": {
        "id": "edQbyBjPh9OJ"
      },
      "execution_count": 1,
      "outputs": []
    },
    {
      "cell_type": "code",
      "execution_count": null,
      "metadata": {
        "id": "qRY6kUQggAKM"
      },
      "outputs": [],
      "source": [
        "!pip install -r \"{main_path}requirements.txt\""
      ]
    },
    {
      "cell_type": "code",
      "source": [
        "import dash\n",
        "import dash_core_components as dcc\n",
        "import dash_html_components as html\n",
        "from dash.dependencies import Input, Output\n",
        "import plotly.express as px\n",
        "import pandas as pd\n",
        "from flask_caching import Cache\n",
        "import os\n",
        "\n",
        "# Initialize the Dash app with server\n",
        "app = dash.Dash(__name__)\n",
        "server = app.server\n",
        "\n",
        "# Configure cache\n",
        "cache = Cache(app.server, config={\n",
        "    'CACHE_TYPE': 'filesystem',\n",
        "    'CACHE_DIR': 'cache-directory'\n",
        "})\n",
        "cache.init_app(app.server)\n",
        "\n",
        "covid_df = pd.read_csv(f'{datasets_path}merged_dataset_03.csv')\n",
        "\n",
        "# Define layout\n",
        "app.layout = html.Div([\n",
        "    html.H1(\"COVID-19 Data Visualization Dashboard\"),\n",
        "    html.Div([\n",
        "        dcc.Dropdown(\n",
        "            id='location-dropdown',\n",
        "            options=[{'label': i, 'value': i} for i in covid_df['location'].unique()],\n",
        "            value='Global',\n",
        "            style={'width': '48%', 'display': 'inline-block'}\n",
        "        ),\n",
        "        dcc.Dropdown(\n",
        "            id='metric-dropdown',\n",
        "            options=[\n",
        "                {'label': 'Total Cases', 'value': 'total_cases'},\n",
        "                {'label': 'New Cases', 'value': 'new_cases'},\n",
        "                {'label': 'Total Deaths', 'value': 'total_deaths'},\n",
        "                {'label': 'New Deaths', 'value': 'new_deaths'},\n",
        "                {'label': 'Total Vaccinations', 'value': 'total_vaccinations'}\n",
        "            ],\n",
        "            value='total_cases',\n",
        "            style={'width': '48%', 'float': 'right', 'display': 'inline-block'}\n",
        "        )\n",
        "    ]),\n",
        "    dcc.Graph(id='map-visualization'),\n",
        "    dcc.Graph(id='time-series-visualization'),\n",
        "    dcc.Graph(id='global-heatmap'),\n",
        "    dcc.Graph(id='comparison-chart'),\n",
        "    dcc.Graph(id='vaccination-coverage-chart')\n",
        "])\n",
        "\n",
        "# Cache expensive data transformation\n",
        "@cache.memoize(timeout=50)\n",
        "def filter_data(selected_metric, selected_location):\n",
        "    # Filter based on the selected location if necessary\n",
        "    filtered_df = covid_df[covid_df['location'] == selected_location]\n",
        "    return filtered_df\n",
        "\n",
        "@app.callback(\n",
        "    Output('map-visualization', 'figure'),\n",
        "    [Input('metric-dropdown', 'value'),\n",
        "     Input('location-dropdown', 'value')]\n",
        ")\n",
        "def update_map(selected_metric, selected_location):\n",
        "    filtered_df = filter_data(selected_metric, selected_location)\n",
        "    fig_map = px.scatter_geo(filtered_df, lat='Lat', lon='Long', size=selected_metric,\n",
        "                             hover_name='location', color=selected_metric,\n",
        "                             title=f'{selected_metric} Distribution')\n",
        "    return fig_map\n",
        "\n",
        "@app.callback(\n",
        "    Output('time-series-visualization', 'figure'),\n",
        "    [Input('location-dropdown', 'value'),\n",
        "     Input('metric-dropdown', 'value')]\n",
        ")\n",
        "def update_time_series(selected_location, selected_metric):\n",
        "    filtered_df = filter_data(selected_metric, selected_location)\n",
        "    fig_series = px.line(filtered_df, x='date', y=selected_metric,\n",
        "                         title=f'{selected_metric} Over Time in {selected_location}')\n",
        "    return fig_series\n",
        "\n",
        "@app.callback(\n",
        "    Output('global-heatmap', 'figure'),\n",
        "    [Input('metric-dropdown', 'value')]\n",
        ")\n",
        "def update_global_heatmap(selected_metric):\n",
        "    fig_heatmap = px.choropleth(covid_df, locations=\"location\", locationmode=\"country names\",\n",
        "                                color=selected_metric, hover_name=\"location\",\n",
        "                                animation_frame=\"date\",\n",
        "                                title=f\"Global {selected_metric} Heatmap Over Time\")\n",
        "    fig_heatmap.layout.updatemenus[0].buttons[0].args[1][\"frame\"][\"duration\"] = 30\n",
        "    return fig_heatmap\n",
        "\n",
        "@app.callback(\n",
        "    Output('comparison-chart', 'figure'),\n",
        "    [Input('metric-dropdown', 'value')]\n",
        ")\n",
        "def update_comparison_chart(selected_metric):\n",
        "    fig_comparison = px.line(covid_df, x=\"date\", y=selected_metric, color=\"location\",\n",
        "                             title=f\"Comparison of {selected_metric} Across Locations\")\n",
        "    return fig_comparison\n",
        "\n",
        "@app.callback(\n",
        "    Output('vaccination-coverage-chart', 'figure'),\n",
        "    [Input('location-dropdown', 'value')]\n",
        ")\n",
        "def update_vaccination_coverage_chart(selected_location):\n",
        "    filtered_df = covid_df[covid_df['location'] == selected_location]\n",
        "    fig_vaccination = px.bar(filtered_df, x='date', y='total_vaccinations',\n",
        "                             title=f'Total Vaccinations Over Time in {selected_location}')\n",
        "    return fig_vaccination\n"
      ],
      "metadata": {
        "id": "g-tkbOxLrOh6",
        "colab": {
          "base_uri": "https://localhost:8080/",
          "height": 160
        },
        "outputId": "82f1d0e6-398f-4b2f-aac0-3ce0ea62b0b8"
      },
      "execution_count": 3,
      "outputs": [
        {
          "output_type": "stream",
          "name": "stderr",
          "text": [
            "<ipython-input-3-f1214779dc19>:2: UserWarning: \n",
            "The dash_core_components package is deprecated. Please replace\n",
            "`import dash_core_components as dcc` with `from dash import dcc`\n",
            "  import dash_core_components as dcc\n",
            "<ipython-input-3-f1214779dc19>:3: UserWarning: \n",
            "The dash_html_components package is deprecated. Please replace\n",
            "`import dash_html_components as html` with `from dash import html`\n",
            "  import dash_html_components as html\n"
          ]
        }
      ]
    },
    {
      "cell_type": "code",
      "source": [
        "from pyngrok import ngrok\n",
        "\n",
        "# Terminate open tunnels if exist, and run again if they're not terminated\n",
        "ngrok.kill()\n",
        "\n",
        "ngrok.set_auth_token('REPLACE-WITH-OWN-AUTH-TOKEN')\n",
        "# Setup a tunnel to the streamlit port 8050\n",
        "public_url = ngrok.connect(addr='8050')\n",
        "print('Your Dash app is accessible at:', public_url)"
      ],
      "metadata": {
        "colab": {
          "base_uri": "https://localhost:8080/"
        },
        "id": "26UkRvYIuGn5",
        "outputId": "907a269c-c5c5-41c7-aeaf-36f105b2e5af"
      },
      "execution_count": 5,
      "outputs": [
        {
          "output_type": "stream",
          "name": "stdout",
          "text": [
            "Your Dash app is accessible at: NgrokTunnel: \"https://f68d-35-199-147-166.ngrok-free.app\" -> \"http://localhost:8050\"\n"
          ]
        }
      ]
    },
    {
      "cell_type": "code",
      "source": [
        "# Use this line in a Jupyter environment like Colab to start the server in the background\n",
        "app.run_server(mode='external', port=8050)"
      ],
      "metadata": {
        "id": "LVJGUScDvQTR",
        "colab": {
          "base_uri": "https://localhost:8080/",
          "height": 671
        },
        "outputId": "79d2c3e9-9050-42da-850d-71601d170639"
      },
      "execution_count": 6,
      "outputs": [
        {
          "output_type": "display_data",
          "data": {
            "text/plain": [
              "<IPython.core.display.Javascript object>"
            ],
            "application/javascript": [
              "(async (port, path, width, height, cache, element) => {\n",
              "    if (!google.colab.kernel.accessAllowed && !cache) {\n",
              "      return;\n",
              "    }\n",
              "    element.appendChild(document.createTextNode(''));\n",
              "    const url = await google.colab.kernel.proxyPort(port, {cache});\n",
              "    const iframe = document.createElement('iframe');\n",
              "    iframe.src = new URL(path, url).toString();\n",
              "    iframe.height = height;\n",
              "    iframe.width = width;\n",
              "    iframe.style.border = 0;\n",
              "    iframe.allow = [\n",
              "        'accelerometer',\n",
              "        'autoplay',\n",
              "        'camera',\n",
              "        'clipboard-read',\n",
              "        'clipboard-write',\n",
              "        'gyroscope',\n",
              "        'magnetometer',\n",
              "        'microphone',\n",
              "        'serial',\n",
              "        'usb',\n",
              "        'xr-spatial-tracking',\n",
              "    ].join('; ');\n",
              "    element.appendChild(iframe);\n",
              "  })(8050, \"/\", \"100%\", 650, false, window.element)"
            ]
          },
          "metadata": {}
        }
      ]
    },
    {
      "cell_type": "code",
      "source": [],
      "metadata": {
        "id": "S0NPNHxEx9Wm"
      },
      "execution_count": null,
      "outputs": []
    }
  ]
}